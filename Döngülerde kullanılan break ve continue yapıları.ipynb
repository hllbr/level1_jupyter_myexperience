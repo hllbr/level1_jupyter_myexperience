{
 "cells": [
  {
   "cell_type": "code",
   "execution_count": 1,
   "metadata": {},
   "outputs": [],
   "source": [
    "#break ifadesi : Döngü herhangi bir yerde veya herhangi bir zamanda break ifadesiyle karşılaştığında çalışmasını bir anda durdurur.\n",
    "#Bu şekilde döngü herhangi bir koşula bağlı kalmadan sonlanmış olur.\n",
    "#break ifadesi sadece içerisinde bulunduğu döngüyü sonlandırır.\n",
    "#Eğer iç içe dögüler varsa en içteki döngüde break kullanılmışsa yalnızca en içte bulunan döngü sonlanır diğer döngüler devam eder."
   ]
  },
  {
   "cell_type": "code",
   "execution_count": 1,
   "metadata": {},
   "outputs": [
    {
     "name": "stdout",
     "output_type": "stream",
     "text": [
      "0\n",
      "1\n",
      "2\n",
      "3\n",
      "4\n",
      "5\n",
      "6\n",
      "7\n",
      "8\n",
      "9\n",
      "10\n",
      "11\n",
      "12\n",
      "13\n",
      "14\n",
      "15\n",
      "16\n",
      "17\n",
      "18\n",
      "19\n",
      "20\n",
      "21\n",
      "22\n",
      "23\n",
      "24\n",
      "25\n",
      "26\n",
      "27\n",
      "28\n",
      "29\n",
      "30\n",
      "31\n",
      "32\n",
      "33\n",
      "34\n",
      "35\n",
      "36\n",
      "37\n",
      "38\n",
      "39\n",
      "40\n"
     ]
    }
   ],
   "source": [
    "i = 0\n",
    "while(i<58):\n",
    "    print(i)\n",
    "    i+=1\n",
    "    if i == 41:\n",
    "        break\n",
    "    "
   ]
  },
  {
   "cell_type": "code",
   "execution_count": 2,
   "metadata": {},
   "outputs": [
    {
     "name": "stdout",
     "output_type": "stream",
     "text": [
      "i: 1\n",
      "i: 2\n",
      "i: 3\n",
      "i: 4\n",
      "i: 5\n",
      "i: 6\n",
      "i: 7\n",
      "i: 8\n",
      "i: 9\n",
      "i: 10\n"
     ]
    }
   ],
   "source": [
    "liste = [1,2,3,4,5,6,7,8,9,10,11,12,13,14]\n",
    "for i in liste:\n",
    "    if i == 11:\n",
    "        break\n",
    "    print(\"i:\",i)"
   ]
  },
  {
   "cell_type": "code",
   "execution_count": 3,
   "metadata": {},
   "outputs": [
    {
     "name": "stdout",
     "output_type": "stream",
     "text": [
      "isminiz:(çıkmak için q ya basınız)\n",
      "isminiz : \n",
      "isminiz:(çıkmak için q ya basınız)\n",
      "isminiz : \n",
      "isminiz:(çıkmak için q ya basınız)\n",
      "isminiz : \n",
      "isminiz:(çıkmak için q ya basınız)\n",
      "isminiz : \n",
      "isminiz:(çıkmak için q ya basınız)\n",
      "isminiz : \n",
      "isminiz:(çıkmak için q ya basınız)\n",
      "isminiz : \n",
      "isminiz:(çıkmak için q ya basınız)\n",
      "isminiz : \n",
      "isminiz:(çıkmak için q ya basınız)q\n",
      "çıkış işlemi başarılı katılımınız için teşekkürler\n"
     ]
    }
   ],
   "source": [
    "#sonsuz döngüleri sonlandırmak içinde break yapısı kullanabiliriz\n",
    "while True:\n",
    "    isim = input(\"isminiz:(çıkmak için q ya basınız)\")\n",
    "    if isim == \"q\":\n",
    "        print(\"çıkış işlemi başarılı\",\"katılımınız için teşekkürler\")\n",
    "        break\n",
    "    print(\"isminiz :\",isim)"
   ]
  },
  {
   "cell_type": "code",
   "execution_count": 4,
   "metadata": {},
   "outputs": [],
   "source": [
    "#Continue ifadesi : Döngünün herhangi bir yerinde ve herhangi bir zamanında continue ile karşılaştığında geriye kalan işlemleri yapmadan direk blogun başına döner."
   ]
  },
  {
   "cell_type": "code",
   "execution_count": 5,
   "metadata": {},
   "outputs": [
    {
     "name": "stdout",
     "output_type": "stream",
     "text": [
      "i: 1\n",
      "i: 2\n",
      "i: 4\n",
      "i: 6\n",
      "i: 7\n",
      "i: 8\n",
      "i: 9\n",
      "i: 10\n"
     ]
    }
   ],
   "source": [
    "liste = [1,2,3,4,5,6,7,8,9,10]\n",
    "for i in liste:\n",
    "    if(i ==3 or i == 5):\n",
    "        continue\n",
    "    print(\"i:\",i)\n",
    "    "
   ]
  },
  {
   "cell_type": "code",
   "execution_count": 1,
   "metadata": {},
   "outputs": [
    {
     "name": "stdout",
     "output_type": "stream",
     "text": [
      "0\n",
      "1\n",
      "3\n",
      "4\n",
      "5\n",
      "6\n",
      "7\n",
      "8\n",
      "9\n",
      "10\n",
      "11\n",
      "12\n",
      "13\n",
      "14\n",
      "15\n",
      "16\n",
      "17\n",
      "18\n",
      "19\n",
      "20\n",
      "21\n",
      "22\n",
      "23\n",
      "24\n",
      "25\n",
      "26\n",
      "27\n",
      "28\n",
      "29\n",
      "30\n",
      "31\n",
      "32\n",
      "33\n",
      "34\n",
      "35\n",
      "36\n",
      "37\n",
      "38\n",
      "39\n",
      "40\n",
      "41\n",
      "42\n",
      "43\n",
      "44\n",
      "45\n",
      "46\n",
      "47\n",
      "48\n",
      "49\n",
      "50\n",
      "51\n",
      "52\n",
      "53\n",
      "54\n",
      "55\n",
      "56\n",
      "57\n"
     ]
    }
   ],
   "source": [
    "i = 0\n",
    "while i < 58:\n",
    "    if i == 2:\n",
    "        i+=1\n",
    "        continue\n",
    "    print(i)\n",
    "    i+=1"
   ]
  },
  {
   "cell_type": "code",
   "execution_count": null,
   "metadata": {},
   "outputs": [],
   "source": []
  },
  {
   "cell_type": "code",
   "execution_count": null,
   "metadata": {},
   "outputs": [],
   "source": []
  }
 ],
 "metadata": {
  "kernelspec": {
   "display_name": "Python 3",
   "language": "python",
   "name": "python3"
  },
  "language_info": {
   "codemirror_mode": {
    "name": "ipython",
    "version": 3
   },
   "file_extension": ".py",
   "mimetype": "text/x-python",
   "name": "python",
   "nbconvert_exporter": "python",
   "pygments_lexer": "ipython3",
   "version": "3.8.3"
  }
 },
 "nbformat": 4,
 "nbformat_minor": 4
}
