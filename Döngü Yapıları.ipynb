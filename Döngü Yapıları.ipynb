{
 "cells": [
  {
   "cell_type": "code",
   "execution_count": 1,
   "metadata": {},
   "outputs": [],
   "source": [
    "#döngü yapıları kodumuzun bizim tarafımızdan belirlenen koşullar sağlandığı sürece çalışması için tasarlanmış yapılardır."
   ]
  },
  {
   "cell_type": "code",
   "execution_count": 2,
   "metadata": {},
   "outputs": [],
   "source": [
    "#standart bir program yaşam döngüsünde bir bok satırı bir kez çalıştırılır ve ardından bir sonraki satıra geçilir döngü yapısına yada satırına girdiğimizde ise şartlar sağlandığı sürece yapının içersindeki kod satırları defalarca kez çalıştırılır.\n",
    "#dögü yapılarının hatalı kullanımları sonsuz döngülerin oluşmasına neden olabilir."
   ]
  },
  {
   "cell_type": "code",
   "execution_count": 3,
   "metadata": {},
   "outputs": [],
   "source": [
    "#Pythonda in operatörü bir elemanın başka bir listede, demette veya stringte(karakter dizileri) bulunup bulunmadığını kontrol eder."
   ]
  },
  {
   "cell_type": "code",
   "execution_count": 5,
   "metadata": {},
   "outputs": [
    {
     "data": {
      "text/plain": [
       "False"
      ]
     },
     "execution_count": 5,
     "metadata": {},
     "output_type": "execute_result"
    }
   ],
   "source": [
    "\"a\" in \"hllbr\""
   ]
  },
  {
   "cell_type": "code",
   "execution_count": 6,
   "metadata": {},
   "outputs": [
    {
     "data": {
      "text/plain": [
       "True"
      ]
     },
     "execution_count": 6,
     "metadata": {},
     "output_type": "execute_result"
    }
   ],
   "source": [
    "\"r\" in \"hllbr\""
   ]
  },
  {
   "cell_type": "code",
   "execution_count": 7,
   "metadata": {},
   "outputs": [
    {
     "data": {
      "text/plain": [
       "True"
      ]
     },
     "execution_count": 7,
     "metadata": {},
     "output_type": "execute_result"
    }
   ],
   "source": [
    "58 in [1,3,4,5,58]"
   ]
  },
  {
   "cell_type": "code",
   "execution_count": 8,
   "metadata": {},
   "outputs": [
    {
     "data": {
      "text/plain": [
       "True"
      ]
     },
     "execution_count": 8,
     "metadata": {},
     "output_type": "execute_result"
    }
   ],
   "source": [
    "58 in (1,2,3,58)"
   ]
  },
  {
   "cell_type": "code",
   "execution_count": 9,
   "metadata": {},
   "outputs": [],
   "source": [
    "#For döngüsü "
   ]
  },
  {
   "cell_type": "code",
   "execution_count": 10,
   "metadata": {},
   "outputs": [
    {
     "name": "stdout",
     "output_type": "stream",
     "text": [
      "Elemman  1\n",
      "Elemman  2\n",
      "Elemman  3\n",
      "Elemman  4\n",
      "Elemman  5\n",
      "Elemman  6\n",
      "Elemman  7\n"
     ]
    }
   ],
   "source": [
    "liste = [1,2,3,4,5,6,7]\n",
    "\n",
    "for eleman in liste:\n",
    "    print(\"Elemman \",eleman)"
   ]
  },
  {
   "cell_type": "code",
   "execution_count": 11,
   "metadata": {},
   "outputs": [
    {
     "name": "stdout",
     "output_type": "stream",
     "text": [
      "0 .index\n",
      "1 .index\n",
      "2 .index\n",
      "3 .index\n",
      "4 .index\n",
      "5 .index\n",
      "6 .index\n"
     ]
    }
   ],
   "source": [
    "liste = [1,2,3,4,5,6,7]\n",
    "\n",
    "for eleman in liste:\n",
    "    print(eleman-1,\".index\")"
   ]
  },
  {
   "cell_type": "code",
   "execution_count": 14,
   "metadata": {},
   "outputs": [
    {
     "name": "stdout",
     "output_type": "stream",
     "text": [
      "1\n",
      "3\n",
      "6\n",
      "10\n",
      "15\n",
      "21\n",
      "28\n",
      "105\n",
      "171\n",
      "226\n",
      "270\n",
      "303\n",
      "325\n",
      "336\n",
      "son toplamsonucu :  336\n"
     ]
    }
   ],
   "source": [
    "toplam = 0\n",
    "liste = [1,2,3,4,5,6,7,77,66,55,44,33,22,11]\n",
    "for eleman in liste:\n",
    "    toplam+=eleman\n",
    "    print(toplam)\n",
    "print(\"son toplamsonucu : \",toplam)"
   ]
  },
  {
   "cell_type": "code",
   "execution_count": 15,
   "metadata": {},
   "outputs": [],
   "source": [
    "#while döngüleri\n",
    "#while döngüleri belli bir koşul sağlandığı sürece bloğundaki işlemleri gerçekleştirmeye devam eder. while döngülerinin sona ermesi için koşul durumunun bir süre sonra False olması gereklidir.\n"
   ]
  },
  {
   "cell_type": "code",
   "execution_count": 17,
   "metadata": {},
   "outputs": [
    {
     "name": "stdout",
     "output_type": "stream",
     "text": [
      "i'nin değeri 0\n",
      "i'nin değeri 1\n",
      "i'nin değeri 2\n",
      "i'nin değeri 3\n",
      "i'nin değeri 4\n",
      "i'nin değeri 5\n",
      "i'nin değeri 6\n",
      "i'nin değeri 7\n",
      "i'nin değeri 8\n",
      "i'nin değeri 9\n"
     ]
    }
   ],
   "source": [
    "i = 0\n",
    "while(i<10):\n",
    "    print(\"i'nin değeri\",i)\n",
    "    i+=1"
   ]
  },
  {
   "cell_type": "code",
   "execution_count": null,
   "metadata": {},
   "outputs": [],
   "source": []
  }
 ],
 "metadata": {
  "kernelspec": {
   "display_name": "Python 3",
   "language": "python",
   "name": "python3"
  },
  "language_info": {
   "codemirror_mode": {
    "name": "ipython",
    "version": 3
   },
   "file_extension": ".py",
   "mimetype": "text/x-python",
   "name": "python",
   "nbconvert_exporter": "python",
   "pygments_lexer": "ipython3",
   "version": "3.8.3"
  }
 },
 "nbformat": 4,
 "nbformat_minor": 4
}
