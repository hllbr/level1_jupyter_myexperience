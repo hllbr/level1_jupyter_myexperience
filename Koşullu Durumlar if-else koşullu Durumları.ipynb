{
 "cells": [
  {
   "cell_type": "code",
   "execution_count": 1,
   "metadata": {},
   "outputs": [],
   "source": [
    "#Pythonda C , C++ ve JAVA'da olduğu gibi yukarıdan aşağıya doğru çalışan bir yapıya sahiptir."
   ]
  },
  {
   "cell_type": "code",
   "execution_count": 2,
   "metadata": {},
   "outputs": [],
   "source": [
    "#Pythonı diğer dillerden ayıran özelliği ise blokların boşluklarla(girintilerle) oluşturuluyor olmasından kaynaklı"
   ]
  },
  {
   "cell_type": "code",
   "execution_count": 5,
   "metadata": {},
   "outputs": [
    {
     "name": "stdout",
     "output_type": "stream",
     "text": [
      "a değişkeni 58'e eşittir\n"
     ]
    }
   ],
   "source": [
    "a = 58 \n",
    "if(a == 58):\n",
    "    print(\"a değişkeni 58'e eşittir\")\n",
    "else:\n",
    "    print(\"a 58 den farklı bir sayıdır.\")"
   ]
  },
  {
   "cell_type": "code",
   "execution_count": 6,
   "metadata": {},
   "outputs": [
    {
     "name": "stdout",
     "output_type": "stream",
     "text": [
      "58\n"
     ]
    }
   ],
   "source": [
    "a = 58\n",
    "#a =58 yazan kod satırı kesinlikle çalıştırılır.\n",
    "if(a == 59):\n",
    "    print(\"a değişkeni 59'a eşittir.\")\n",
    "print(a)\n",
    "#print(a) yazan kod satırı kesinlikle çalıştırılır.\n",
    "#if blogu ise sonucun doğru olması durumunda çalıştırılır."
   ]
  },
  {
   "cell_type": "code",
   "execution_count": 8,
   "metadata": {},
   "outputs": [
    {
     "name": "stdout",
     "output_type": "stream",
     "text": [
      "ehliyetiniz varmı ?varsa 1 yoksa 2 yazınız1\n",
      "kaç yıldır aktif trafikte bulunuyorsunuz.4\n",
      "yüksek cc motor kullanmak için gerekli şartları yerine getiriyorsunuz\n"
     ]
    }
   ],
   "source": [
    "\n",
    "b = int(input(\"ehliyetiniz varmı ?varsa 1 yoksa 2 yazınız\"))\n",
    "if(b == 1):\n",
    "    c = int(input(\"kaç yıldır aktif trafikte bulunuyorsunuz.\"))\n",
    "    if(c >=3):\n",
    "        print(\"yüksek cc motor kullanmak için gerekli şartları yerine getiriyorsunuz\")\n",
    "    else:\n",
    "        print(\"üzgünüz yeterli deneyime sahip değilsiniz.\")\n",
    "else:\n",
    "    print(\"üzgünüz önce ehliyet sahibi olmalısınız.\")\n"
   ]
  },
  {
   "cell_type": "code",
   "execution_count": null,
   "metadata": {},
   "outputs": [],
   "source": []
  }
 ],
 "metadata": {
  "kernelspec": {
   "display_name": "Python 3",
   "language": "python",
   "name": "python3"
  },
  "language_info": {
   "codemirror_mode": {
    "name": "ipython",
    "version": 3
   },
   "file_extension": ".py",
   "mimetype": "text/x-python",
   "name": "python",
   "nbconvert_exporter": "python",
   "pygments_lexer": "ipython3",
   "version": "3.8.3"
  }
 },
 "nbformat": 4,
 "nbformat_minor": 4
}
