{
 "cells": [
  {
   "cell_type": "code",
   "execution_count": 1,
   "metadata": {},
   "outputs": [],
   "source": [
    "#if elif-else\n",
    "#Programlarımızda, Kaç tane koşulumuz var ise o kadar elif bloğu oluşturabiliriz. Ayrıca else in yazılması zorunlu değildir. if – elif – else kalıplarında, hangi koşul sağlanırsa program o bloğu çalıştırır ve if-elif-blokları sona erer. \n"
   ]
  },
  {
   "cell_type": "code",
   "execution_count": 2,
   "metadata": {},
   "outputs": [
    {
     "name": "stdout",
     "output_type": "stream",
     "text": [
      "islem başarısı veya olası bir başarısızlık durumunda bilgilendirileceksiniz\n",
      "İşlem giriniz : 2\n",
      "islem 2 blok devreye girdi\n"
     ]
    }
   ],
   "source": [
    "print(\"islem başarısı veya olası bir başarısızlık durumunda bilgilendirileceksiniz\")\n",
    "islem = input(\"İşlem giriniz : \")\n",
    "if islem == \"1\":\n",
    "    print(\"işlem 1 blok devreye girdi\")\n",
    "elif islem == \"2\":\n",
    "    print(\"islem 2 blok devreye girdi\")\n",
    "elif islem == \"3\":\n",
    "    print(\"islem 3 blok devreye girdi\")\n",
    "else:\n",
    "    print(\"else blok devreye girdi\")"
   ]
  },
  {
   "cell_type": "code",
   "execution_count": 3,
   "metadata": {},
   "outputs": [],
   "source": [
    "#if blogu olmadan else yada elif blokları da olmaz ifi olmayan else hata sebebidir aynı şekilde if'i olmayan bir elif de hataya sebebiyet verir."
   ]
  },
  {
   "cell_type": "code",
   "execution_count": 4,
   "metadata": {},
   "outputs": [
    {
     "name": "stdout",
     "output_type": "stream",
     "text": [
      "Notunuzu giriniz.80\n",
      "yetenekleri olan fakat çalışma steği konusunda sıkıntı yaşayan bir öğrenci\n"
     ]
    }
   ],
   "source": [
    "note = float(input(\"Notunuzu giriniz.\"))\n",
    "\n",
    "if(note >= 90):\n",
    "    print(\"yüksek onur adayı bir öğrenci potansiyeli\")\n",
    "elif(note == 89 or note>=70):\n",
    "    print(\"yetenekleri olan fakat çalışma steği konusunda sıkıntı yaşayan bir öğrenci\")\n",
    "elif(note ==69 or note >=50):\n",
    "    print(\"yetenekleri kısıtlı fakat çalışma azmi olan öğrenci grubunda\"+\"desteklenmeli ve çabası taktir edilmeli\")\n",
    "elif(note ==49 or note >=40):\n",
    "    print(\"ilgi ve yetenek durumu öğretmen tarafından incelenmeli işisel ailesel problemleri varsa sorunun çözümü için gerkli devlet kurumlarıyla irtibata geçilmelidir.\")\n",
    "else:\n",
    "    print(\"umutsuz vaka \")\n",
    "    "
   ]
  },
  {
   "cell_type": "code",
   "execution_count": null,
   "metadata": {},
   "outputs": [],
   "source": []
  }
 ],
 "metadata": {
  "kernelspec": {
   "display_name": "Python 3",
   "language": "python",
   "name": "python3"
  },
  "language_info": {
   "codemirror_mode": {
    "name": "ipython",
    "version": 3
   },
   "file_extension": ".py",
   "mimetype": "text/x-python",
   "name": "python",
   "nbconvert_exporter": "python",
   "pygments_lexer": "ipython3",
   "version": "3.8.3"
  }
 },
 "nbformat": 4,
 "nbformat_minor": 4
}
