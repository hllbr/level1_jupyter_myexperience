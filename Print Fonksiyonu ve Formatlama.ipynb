{
 "cells": [
  {
   "cell_type": "markdown",
   "metadata": {},
   "source": [
    "Print Fonksiyonu = Kodlarımızı dosyalara yazdıüımızda,eğer bir değer bastırmak istersek print fonksiyonunu kullanıyoruz.\n"
   ]
  },
  {
   "cell_type": "code",
   "execution_count": 2,
   "metadata": {},
   "outputs": [
    {
     "name": "stdout",
     "output_type": "stream",
     "text": [
      "58\n"
     ]
    }
   ],
   "source": [
    "print(58)"
   ]
  },
  {
   "cell_type": "code",
   "execution_count": 3,
   "metadata": {},
   "outputs": [
    {
     "name": "stdout",
     "output_type": "stream",
     "text": [
      "13\n"
     ]
    }
   ],
   "source": [
    "a = 5\n",
    "b = 8\n",
    "print(a+b)"
   ]
  },
  {
   "cell_type": "code",
   "execution_count": 4,
   "metadata": {},
   "outputs": [
    {
     "name": "stdout",
     "output_type": "stream",
     "text": [
      "Halil İbrahim KOÇAK\n"
     ]
    }
   ],
   "source": [
    "print(\"Halil İbrahim KOÇAK\")"
   ]
  },
  {
   "cell_type": "code",
   "execution_count": 5,
   "metadata": {},
   "outputs": [
    {
     "name": "stdout",
     "output_type": "stream",
     "text": [
      "58 5 588 8 855 @hllbr Python\n"
     ]
    }
   ],
   "source": [
    "print(58,5,588,8,855,\"@hllbr\",\"Python\")"
   ]
  },
  {
   "cell_type": "code",
   "execution_count": 6,
   "metadata": {},
   "outputs": [
    {
     "name": "stdout",
     "output_type": "stream",
     "text": [
      "Halil İbrahim KOÇAK\n"
     ]
    }
   ],
   "source": [
    "print(\"Halil\",\"İbrahim\",\"KOÇAK\")"
   ]
  },
  {
   "cell_type": "code",
   "execution_count": 10,
   "metadata": {},
   "outputs": [
    {
     "name": "stdout",
     "output_type": "stream",
     "text": [
      "halil\n",
      "İbrahim\n",
      "KOÇAK\n",
      "hllbr\n"
     ]
    }
   ],
   "source": [
    "#Stringlerdeki özel karakterler\n",
    "#\\n karakteri \n",
    "#örnek = \n",
    "print(\"halil\\nİbrahim\\nKOÇAK\\nhllbr\")"
   ]
  },
  {
   "cell_type": "code",
   "execution_count": 11,
   "metadata": {},
   "outputs": [
    {
     "name": "stdout",
     "output_type": "stream",
     "text": [
      "hllbr\tis a\twonderfull\tprogramer\n"
     ]
    }
   ],
   "source": [
    "# karakteri\n",
    "print(\"hllbr\\tis a\\twonderfull\\tprogramer\")"
   ]
  },
  {
   "cell_type": "code",
   "execution_count": 13,
   "metadata": {},
   "outputs": [
    {
     "data": {
      "text/plain": [
       "int"
      ]
     },
     "execution_count": 13,
     "metadata": {},
     "output_type": "execute_result"
    }
   ],
   "source": [
    "#type() fonksiyonu içine gönderdiğimiz ifadenin hangi tipte olduğunu söylüyor.\n",
    "a = 65\n",
    "type(a)"
   ]
  },
  {
   "cell_type": "code",
   "execution_count": 14,
   "metadata": {},
   "outputs": [
    {
     "data": {
      "text/plain": [
       "str"
      ]
     },
     "execution_count": 14,
     "metadata": {},
     "output_type": "execute_result"
    }
   ],
   "source": [
    "a = \"hllbr\"\n",
    "type(a)"
   ]
  },
  {
   "cell_type": "code",
   "execution_count": 15,
   "metadata": {},
   "outputs": [
    {
     "name": "stdout",
     "output_type": "stream",
     "text": [
      "<class 'str'>\n"
     ]
    }
   ],
   "source": [
    "a =\"hllbr58\"\n",
    "print(type(a))"
   ]
  },
  {
   "cell_type": "code",
   "execution_count": 16,
   "metadata": {},
   "outputs": [
    {
     "name": "stdout",
     "output_type": "stream",
     "text": [
      "<class 'int'>\n"
     ]
    }
   ],
   "source": [
    "a = 58\n",
    "print(type(a))"
   ]
  },
  {
   "cell_type": "code",
   "execution_count": 17,
   "metadata": {},
   "outputs": [
    {
     "name": "stdout",
     "output_type": "stream",
     "text": [
      "<class 'float'>\n"
     ]
    }
   ],
   "source": [
    "a = 3.14\n",
    "print(type(a))"
   ]
  },
  {
   "cell_type": "code",
   "execution_count": 19,
   "metadata": {},
   "outputs": [
    {
     "name": "stdout",
     "output_type": "stream",
     "text": [
      "3/4/5/6/4/7/8/9/halil/ibrahim/KOÇAK\n"
     ]
    }
   ],
   "source": [
    "#print fonksiyonun özellikleri \n",
    "#sep parametresi yapı oluşturulurken yazdırılacak verileri ne ile birbirindenayırmak istiyorsanız bunu sep parametresine yerleştirmeniz yeterli sep kullanmazsanız yapıyı kurarken arada kullanılan virgüller boşluk olarak tanımlanacaktır\n",
    "#sep parametresi örnek \n",
    "print(3,4,5,6,4,7,8,9,\"halil\",\"ibrahim\",\"KOÇAK\",sep=\"/\")"
   ]
  },
  {
   "cell_type": "code",
   "execution_count": 20,
   "metadata": {},
   "outputs": [
    {
     "name": "stdout",
     "output_type": "stream",
     "text": [
      "3\n",
      "4\n",
      "5\n",
      "6\n",
      "4\n",
      "7\n",
      "8\n",
      "9\n",
      "halil\n",
      "ibrahim\n",
      "KOÇAK\n"
     ]
    }
   ],
   "source": [
    "print(3,4,5,6,4,7,8,9,\"halil\",\"ibrahim\",\"KOÇAK\",sep=\"\\n\")"
   ]
  },
  {
   "cell_type": "code",
   "execution_count": 21,
   "metadata": {},
   "outputs": [
    {
     "name": "stdout",
     "output_type": "stream",
     "text": [
      "h l l b r\n"
     ]
    }
   ],
   "source": [
    "#Yıldızlı Parametreler\n",
    "#yıldızlı parametre kullanımı\n",
    "print(*\"hllbr\")"
   ]
  },
  {
   "cell_type": "code",
   "execution_count": 22,
   "metadata": {},
   "outputs": [
    {
     "name": "stdout",
     "output_type": "stream",
     "text": [
      "h.l.l.b.r\n"
     ]
    }
   ],
   "source": [
    "print(*\"hllbr\",sep=\".\")"
   ]
  },
  {
   "cell_type": "code",
   "execution_count": 24,
   "metadata": {},
   "outputs": [
    {
     "data": {
      "text/plain": [
       "'3.145.588hllbr'"
      ]
     },
     "execution_count": 24,
     "metadata": {},
     "output_type": "execute_result"
    }
   ],
   "source": [
    "#Stringlerde Formatlama işlemi en önemli yapılardan birtanesidir.bir string içerisine daha önceden tanımlanmış olan string int yada float bir veriyi yerleştirmek için kullanılırlar\n",
    "#Formatlama örnek \n",
    "\"{}{}{}\".format(3.14,5.588,\"hllbr\")"
   ]
  },
  {
   "cell_type": "code",
   "execution_count": 25,
   "metadata": {},
   "outputs": [
    {
     "name": "stdout",
     "output_type": "stream",
     "text": [
      "5*8'nin çarpımları 40'dır.\n"
     ]
    }
   ],
   "source": [
    "a = 5\n",
    "b = 8\n",
    "print(\"{}*{}'nin çarpımları {}'dır.\".format(a,b,(a*b)))"
   ]
  },
  {
   "cell_type": "code",
   "execution_count": 28,
   "metadata": {},
   "outputs": [
    {
     "data": {
      "text/plain": [
       "'hllbr\\n58\\nyılın en güzel zamanı'"
      ]
     },
     "execution_count": 28,
     "metadata": {},
     "output_type": "execute_result"
    }
   ],
   "source": [
    "#Süslü parantez içerisindeki sayılar format içersindeki hangi sıradali ifadenin geleceğini gösterir.\n",
    "\"{1}{0}{2}\".format(\"58\",\"hllbr\",\"yılın en güzel zamanı\")"
   ]
  },
  {
   "cell_type": "code",
   "execution_count": 33,
   "metadata": {},
   "outputs": [
    {
     "data": {
      "text/plain": [
       "'3.125.237.324'"
      ]
     },
     "execution_count": 33,
     "metadata": {},
     "output_type": "execute_result"
    }
   ],
   "source": [
    "\"{:.2f}{:.2f}{:.3f}\".format(3.12345,5.2343,7.3244)"
   ]
  },
  {
   "cell_type": "code",
   "execution_count": null,
   "metadata": {},
   "outputs": [],
   "source": []
  }
 ],
 "metadata": {
  "kernelspec": {
   "display_name": "Python 3",
   "language": "python",
   "name": "python3"
  },
  "language_info": {
   "codemirror_mode": {
    "name": "ipython",
    "version": 3
   },
   "file_extension": ".py",
   "mimetype": "text/x-python",
   "name": "python",
   "nbconvert_exporter": "python",
   "pygments_lexer": "ipython3",
   "version": "3.8.3"
  }
 },
 "nbformat": 4,
 "nbformat_minor": 4
}
